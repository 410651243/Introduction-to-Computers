{
  "nbformat": 4,
  "nbformat_minor": 0,
  "metadata": {
    "colab": {
      "name": "0323.ipynb",
      "provenance": [],
      "authorship_tag": "ABX9TyPDzDJMATCKepW9SiPuFT84",
      "include_colab_link": true
    },
    "kernelspec": {
      "name": "python3",
      "display_name": "Python 3"
    },
    "language_info": {
      "name": "python"
    }
  },
  "cells": [
    {
      "cell_type": "markdown",
      "metadata": {
        "id": "view-in-github",
        "colab_type": "text"
      },
      "source": [
        "<a href=\"https://colab.research.google.com/github/Liu-yihsuan/Introduction-to-Computers/blob/main/0323.ipynb\" target=\"_parent\"><img src=\"https://colab.research.google.com/assets/colab-badge.svg\" alt=\"Open In Colab\"/></a>"
      ]
    },
    {
      "cell_type": "code",
      "execution_count": 1,
      "metadata": {
        "colab": {
          "base_uri": "https://localhost:8080/"
        },
        "id": "6CzJBi75oa2M",
        "outputId": "8ceac336-11f6-4cc7-d564-a74c38512639"
      },
      "outputs": [
        {
          "output_type": "stream",
          "name": "stdout",
          "text": [
            "123\n"
          ]
        }
      ],
      "source": [
        "print('123')"
      ]
    },
    {
      "cell_type": "code",
      "source": [
        "12+3"
      ],
      "metadata": {
        "colab": {
          "base_uri": "https://localhost:8080/"
        },
        "id": "rKJeZda7oftt",
        "outputId": "64e6e120-9f21-4312-fa36-7ddf0f8cd6a0"
      },
      "execution_count": 2,
      "outputs": [
        {
          "output_type": "execute_result",
          "data": {
            "text/plain": [
              "15"
            ]
          },
          "metadata": {},
          "execution_count": 2
        }
      ]
    },
    {
      "cell_type": "code",
      "source": [
        "12-3"
      ],
      "metadata": {
        "colab": {
          "base_uri": "https://localhost:8080/"
        },
        "id": "31HiWqcWpMGZ",
        "outputId": "60a71bf6-c66d-46c7-a8ae-47445c42697d"
      },
      "execution_count": 3,
      "outputs": [
        {
          "output_type": "execute_result",
          "data": {
            "text/plain": [
              "9"
            ]
          },
          "metadata": {},
          "execution_count": 3
        }
      ]
    },
    {
      "cell_type": "code",
      "source": [
        "12*3"
      ],
      "metadata": {
        "colab": {
          "base_uri": "https://localhost:8080/"
        },
        "id": "CIur7JTSpM-g",
        "outputId": "fbc9a746-6e8d-47ff-8ef1-5e27672a20ad"
      },
      "execution_count": 4,
      "outputs": [
        {
          "output_type": "execute_result",
          "data": {
            "text/plain": [
              "36"
            ]
          },
          "metadata": {},
          "execution_count": 4
        }
      ]
    },
    {
      "cell_type": "code",
      "source": [
        "32/5"
      ],
      "metadata": {
        "colab": {
          "base_uri": "https://localhost:8080/"
        },
        "id": "bphFF0ubpVlU",
        "outputId": "1c496f92-5594-47cb-bb61-22eecb67fd34"
      },
      "execution_count": 5,
      "outputs": [
        {
          "output_type": "execute_result",
          "data": {
            "text/plain": [
              "6.4"
            ]
          },
          "metadata": {},
          "execution_count": 5
        }
      ]
    },
    {
      "cell_type": "code",
      "source": [
        "32%5"
      ],
      "metadata": {
        "colab": {
          "base_uri": "https://localhost:8080/"
        },
        "id": "MoaRR1A6pZXF",
        "outputId": "a36ce9b6-1262-4ee2-882d-00d55b919e5d"
      },
      "execution_count": 6,
      "outputs": [
        {
          "output_type": "execute_result",
          "data": {
            "text/plain": [
              "2"
            ]
          },
          "metadata": {},
          "execution_count": 6
        }
      ]
    },
    {
      "cell_type": "code",
      "source": [
        "32//5"
      ],
      "metadata": {
        "colab": {
          "base_uri": "https://localhost:8080/"
        },
        "id": "ZEH6ImXypjY7",
        "outputId": "6e626714-f561-4f83-edcd-77b0f145153c"
      },
      "execution_count": 7,
      "outputs": [
        {
          "output_type": "execute_result",
          "data": {
            "text/plain": [
              "6"
            ]
          },
          "metadata": {},
          "execution_count": 7
        }
      ]
    },
    {
      "cell_type": "code",
      "source": [
        "7**2"
      ],
      "metadata": {
        "colab": {
          "base_uri": "https://localhost:8080/"
        },
        "id": "WKzZU63epzTK",
        "outputId": "63dcc1b8-a488-427e-d381-6786f731f58a"
      },
      "execution_count": 8,
      "outputs": [
        {
          "output_type": "execute_result",
          "data": {
            "text/plain": [
              "49"
            ]
          },
          "metadata": {},
          "execution_count": 8
        }
      ]
    },
    {
      "cell_type": "code",
      "source": [
        "7**4"
      ],
      "metadata": {
        "colab": {
          "base_uri": "https://localhost:8080/"
        },
        "id": "qgu1agQVp_RT",
        "outputId": "81cb47d5-692c-4b37-8352-9496e7465b42"
      },
      "execution_count": 9,
      "outputs": [
        {
          "output_type": "execute_result",
          "data": {
            "text/plain": [
              "2401"
            ]
          },
          "metadata": {},
          "execution_count": 9
        }
      ]
    },
    {
      "cell_type": "code",
      "source": [
        "4+3"
      ],
      "metadata": {
        "colab": {
          "base_uri": "https://localhost:8080/"
        },
        "id": "m8lzUzB9rhDG",
        "outputId": "03500964-996b-4c63-f694-937f4f142a69"
      },
      "execution_count": 13,
      "outputs": [
        {
          "output_type": "execute_result",
          "data": {
            "text/plain": [
              "7"
            ]
          },
          "metadata": {},
          "execution_count": 13
        }
      ]
    },
    {
      "cell_type": "code",
      "source": [
        "4-3"
      ],
      "metadata": {
        "colab": {
          "base_uri": "https://localhost:8080/"
        },
        "id": "cUamC7mDsLYc",
        "outputId": "4ecf8e22-c2b9-459d-8edb-9d6b6dbd4ebe"
      },
      "execution_count": 14,
      "outputs": [
        {
          "output_type": "execute_result",
          "data": {
            "text/plain": [
              "1"
            ]
          },
          "metadata": {},
          "execution_count": 14
        }
      ]
    },
    {
      "cell_type": "code",
      "source": [
        "4*3"
      ],
      "metadata": {
        "colab": {
          "base_uri": "https://localhost:8080/"
        },
        "id": "0a9dJvrRseZp",
        "outputId": "d89bf328-746f-485c-f919-bf896a94973a"
      },
      "execution_count": 15,
      "outputs": [
        {
          "output_type": "execute_result",
          "data": {
            "text/plain": [
              "12"
            ]
          },
          "metadata": {},
          "execution_count": 15
        }
      ]
    },
    {
      "cell_type": "code",
      "source": [
        "4/3"
      ],
      "metadata": {
        "colab": {
          "base_uri": "https://localhost:8080/"
        },
        "id": "8g_oKNhtsgkQ",
        "outputId": "5c4bb8c9-e4ec-4ea3-beb7-93ed3bf72676"
      },
      "execution_count": 16,
      "outputs": [
        {
          "output_type": "execute_result",
          "data": {
            "text/plain": [
              "1.3333333333333333"
            ]
          },
          "metadata": {},
          "execution_count": 16
        }
      ]
    },
    {
      "cell_type": "code",
      "source": [
        "4%3"
      ],
      "metadata": {
        "colab": {
          "base_uri": "https://localhost:8080/"
        },
        "id": "hHOjhXLRsjLM",
        "outputId": "8d083988-55f4-442d-eb0a-fa89da438ddd"
      },
      "execution_count": 17,
      "outputs": [
        {
          "output_type": "execute_result",
          "data": {
            "text/plain": [
              "1"
            ]
          },
          "metadata": {},
          "execution_count": 17
        }
      ]
    },
    {
      "cell_type": "code",
      "source": [
        "4//3"
      ],
      "metadata": {
        "colab": {
          "base_uri": "https://localhost:8080/"
        },
        "id": "8Uz6NlxlslsF",
        "outputId": "ecbe927e-ef1c-4584-cb89-70de85a2df93"
      },
      "execution_count": 18,
      "outputs": [
        {
          "output_type": "execute_result",
          "data": {
            "text/plain": [
              "1"
            ]
          },
          "metadata": {},
          "execution_count": 18
        }
      ]
    },
    {
      "cell_type": "code",
      "source": [
        "4**3"
      ],
      "metadata": {
        "colab": {
          "base_uri": "https://localhost:8080/"
        },
        "id": "PQ0is5ZTsngW",
        "outputId": "39a1aa28-8873-44b4-a4aa-51411daf5379"
      },
      "execution_count": 19,
      "outputs": [
        {
          "output_type": "execute_result",
          "data": {
            "text/plain": [
              "64"
            ]
          },
          "metadata": {},
          "execution_count": 19
        }
      ]
    },
    {
      "cell_type": "code",
      "source": [
        "上底 = int(input('請輸入梯形上底長度:'))\n",
        "下底 = int(input('請輸入梯形下底長度:'))\n",
        "高 = int(input('請輸入梯形高度:'))\n",
        "面積 = (上底+下底)*高/2\n",
        "print('上底長度為:',上底,'下底長度為:',下底,'高度為:',高,'梯形面積為:',面積)\n"
      ],
      "metadata": {
        "colab": {
          "base_uri": "https://localhost:8080/"
        },
        "id": "YRzMSbFvsqpG",
        "outputId": "0d064882-6f79-4e1a-e1a4-e0005d9f4bd6"
      },
      "execution_count": 26,
      "outputs": [
        {
          "output_type": "stream",
          "name": "stdout",
          "text": [
            "請輸入梯形上底長度:3\n",
            "請輸入梯形下底長度:4\n",
            "請輸入梯形高度:3\n",
            "上底長度為: 3 下底長度為: 4 高度為: 3 梯形面積為: 10.5\n"
          ]
        }
      ]
    },
    {
      "cell_type": "code",
      "source": [
        "print('梯形上底長度為: %d,梯形下底長度為: %d,梯形高度為: %d,梯形面積為: %d'%(上底,下底,高,面積))"
      ],
      "metadata": {
        "colab": {
          "base_uri": "https://localhost:8080/"
        },
        "id": "g_h-iHWDxRl0",
        "outputId": "3485b01e-02f4-4820-d2b4-0e93c71805d0"
      },
      "execution_count": 30,
      "outputs": [
        {
          "output_type": "stream",
          "name": "stdout",
          "text": [
            "梯形上底長度為: 3,梯形下底長度為: 4,梯形高度為: 3,梯形面積為: 10\n"
          ]
        }
      ]
    },
    {
      "cell_type": "code",
      "source": [
        "print('梯形上底長度為: %d,梯形下底長度為: %d,梯形高度為: %d,梯形面積為: %f'%(上底,下底,高,面積))"
      ],
      "metadata": {
        "colab": {
          "base_uri": "https://localhost:8080/"
        },
        "id": "68zjqdPN13E6",
        "outputId": "1e95200e-2e43-48af-cdb7-9982bfd4f53b"
      },
      "execution_count": 31,
      "outputs": [
        {
          "output_type": "stream",
          "name": "stdout",
          "text": [
            "梯形上底長度為: 3,梯形下底長度為: 4,梯形高度為: 3,梯形面積為: 10.500000\n"
          ]
        }
      ]
    },
    {
      "cell_type": "code",
      "source": [
        "print('梯形上底長度為: %d,梯形下底長度為: %d,梯形高度為: %d,梯形面積為: %0.1f'%(上底,下底,高,面積))"
      ],
      "metadata": {
        "colab": {
          "base_uri": "https://localhost:8080/"
        },
        "id": "Uiw2L5na4NiG",
        "outputId": "feb23bf1-dbd0-4dc8-c0b0-b79bb8d646dd"
      },
      "execution_count": 32,
      "outputs": [
        {
          "output_type": "stream",
          "name": "stdout",
          "text": [
            "梯形上底長度為: 3,梯形下底長度為: 4,梯形高度為: 3,梯形面積為: 10.5\n"
          ]
        }
      ]
    },
    {
      "cell_type": "code",
      "source": [
        "a = 1.1\n",
        "b = 2.02\n",
        "c = 3.003\n",
        "print('a=%0.1f,b=%0.2f,c=%0.3f'%(a,b,c))"
      ],
      "metadata": {
        "colab": {
          "base_uri": "https://localhost:8080/"
        },
        "id": "sg3bbuyw4hxA",
        "outputId": "d4cf0cf1-6678-4580-beeb-ba875d8f1427"
      },
      "execution_count": 42,
      "outputs": [
        {
          "output_type": "stream",
          "name": "stdout",
          "text": [
            "a=1.1,b=2.02,c=3.003\n"
          ]
        }
      ]
    },
    {
      "cell_type": "code",
      "source": [
        "身高 = int(input('請輸入你的身高(公分)'))\n",
        "體重 = int(input('請輸入你的身高(公斤)'))\n",
        "BMI = 體重/((身高*0.01)**2)\n",
        "print('身高%d公分,體重%d公斤,BMI值%0.2f'%(身高,體重,BMI))"
      ],
      "metadata": {
        "colab": {
          "base_uri": "https://localhost:8080/"
        },
        "id": "hRYokDfJ5Eeb",
        "outputId": "02638e99-494e-43af-91c4-034f8678584b"
      },
      "execution_count": 51,
      "outputs": [
        {
          "output_type": "stream",
          "name": "stdout",
          "text": [
            "請輸入你的身高(公分)180\n",
            "請輸入你的身高(公斤)80\n",
            "身高180公分,體重80公斤,BMI值24.69\n"
          ]
        }
      ]
    },
    {
      "cell_type": "code",
      "source": [
        "1==2"
      ],
      "metadata": {
        "colab": {
          "base_uri": "https://localhost:8080/"
        },
        "id": "GD-u1Hi9BC6g",
        "outputId": "d6a12865-b32b-4ec3-cb85-26c93c5bb8c9"
      },
      "execution_count": 53,
      "outputs": [
        {
          "output_type": "execute_result",
          "data": {
            "text/plain": [
              "False"
            ]
          },
          "metadata": {},
          "execution_count": 53
        }
      ]
    },
    {
      "cell_type": "code",
      "source": [
        "1!=2"
      ],
      "metadata": {
        "colab": {
          "base_uri": "https://localhost:8080/"
        },
        "id": "07bMUIcFBuci",
        "outputId": "121c7518-ee99-4106-f164-563555f1c0a5"
      },
      "execution_count": 54,
      "outputs": [
        {
          "output_type": "execute_result",
          "data": {
            "text/plain": [
              "True"
            ]
          },
          "metadata": {},
          "execution_count": 54
        }
      ]
    },
    {
      "cell_type": "code",
      "source": [
        "1>2"
      ],
      "metadata": {
        "colab": {
          "base_uri": "https://localhost:8080/"
        },
        "id": "3UmjYbXVCAcq",
        "outputId": "39f9cae6-5db7-4958-f470-969eb5a38bd4"
      },
      "execution_count": 55,
      "outputs": [
        {
          "output_type": "execute_result",
          "data": {
            "text/plain": [
              "False"
            ]
          },
          "metadata": {},
          "execution_count": 55
        }
      ]
    },
    {
      "cell_type": "code",
      "source": [
        "1<2"
      ],
      "metadata": {
        "colab": {
          "base_uri": "https://localhost:8080/"
        },
        "id": "G4kC-HQWCFlJ",
        "outputId": "5fa035e4-f178-425c-f88e-08a553fc8986"
      },
      "execution_count": 56,
      "outputs": [
        {
          "output_type": "execute_result",
          "data": {
            "text/plain": [
              "True"
            ]
          },
          "metadata": {},
          "execution_count": 56
        }
      ]
    },
    {
      "cell_type": "code",
      "source": [
        "1>=2"
      ],
      "metadata": {
        "colab": {
          "base_uri": "https://localhost:8080/"
        },
        "id": "ENtcbCAgCHYl",
        "outputId": "0778b177-30ce-4ce1-f5cf-53aff35b1dff"
      },
      "execution_count": 57,
      "outputs": [
        {
          "output_type": "execute_result",
          "data": {
            "text/plain": [
              "False"
            ]
          },
          "metadata": {},
          "execution_count": 57
        }
      ]
    },
    {
      "cell_type": "code",
      "source": [
        "1<=2"
      ],
      "metadata": {
        "colab": {
          "base_uri": "https://localhost:8080/"
        },
        "id": "f7sKWObMCJo-",
        "outputId": "057e8846-80f5-49d0-e58b-b30e4d1a3aa9"
      },
      "execution_count": 58,
      "outputs": [
        {
          "output_type": "execute_result",
          "data": {
            "text/plain": [
              "True"
            ]
          },
          "metadata": {},
          "execution_count": 58
        }
      ]
    },
    {
      "cell_type": "code",
      "source": [
        ""
      ],
      "metadata": {
        "id": "FEZMnIS3CLIe"
      },
      "execution_count": null,
      "outputs": []
    }
  ]
}