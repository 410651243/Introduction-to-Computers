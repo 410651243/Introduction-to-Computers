{
  "nbformat": 4,
  "nbformat_minor": 0,
  "metadata": {
    "colab": {
      "name": "0511.ipynb",
      "provenance": [],
      "collapsed_sections": [],
      "authorship_tag": "ABX9TyPJnnygvDNNc25tEj7iNebL",
      "include_colab_link": true
    },
    "kernelspec": {
      "name": "python3",
      "display_name": "Python 3"
    },
    "language_info": {
      "name": "python"
    }
  },
  "cells": [
    {
      "cell_type": "markdown",
      "metadata": {
        "id": "view-in-github",
        "colab_type": "text"
      },
      "source": [
        "<a href=\"https://colab.research.google.com/github/Liu-yihsuan/Introduction-to-Computers/blob/main/0511.ipynb\" target=\"_parent\"><img src=\"https://colab.research.google.com/assets/colab-badge.svg\" alt=\"Open In Colab\"/></a>"
      ]
    },
    {
      "cell_type": "code",
      "execution_count": 1,
      "metadata": {
        "colab": {
          "base_uri": "https://localhost:8080/"
        },
        "id": "BvEvmaWEIHQG",
        "outputId": "e8e0bd82-2552-4dec-cbd7-1517c9e859e4"
      },
      "outputs": [
        {
          "output_type": "stream",
          "name": "stdout",
          "text": [
            "test\n"
          ]
        }
      ],
      "source": [
        "print(\"test\")"
      ]
    },
    {
      "cell_type": "code",
      "source": [
        "temp = float(input(\"請輸入你的體溫\"))\n",
        "if (temp >= 37.5):\n",
        "    print(\"體溫過高!\")\n",
        "elif (temp >= 37 and temp < 37.4):\n",
        "    print(\"體溫略高!\")\n",
        "elif (temp >= 34 and temp < 36.9):\n",
        "    print(\"體溫正常!\") \n",
        "else:\n",
        "    print(\"體溫異常，請重新量測!\")"
      ],
      "metadata": {
        "colab": {
          "base_uri": "https://localhost:8080/"
        },
        "id": "XEy9WXSIJHsg",
        "outputId": "34ac6c1f-7dff-49be-9e92-46bcda0a2cf2"
      },
      "execution_count": 13,
      "outputs": [
        {
          "output_type": "stream",
          "name": "stdout",
          "text": [
            "請輸入你的體溫37.5\n",
            "體溫過高!\n"
          ]
        }
      ]
    },
    {
      "cell_type": "code",
      "source": [
        "money = int(input(\"請輸入購物金額:\"))\n",
        "if (money >= 10000):\n",
        "    if (money>=100000):\n",
        "      print(\"八折\" , money * 0.8 , end = \"元\\n\")\n",
        "else:\n",
        "    print(\"沒打折\" , money , end = \"元\\n\")"
      ],
      "metadata": {
        "colab": {
          "base_uri": "https://localhost:8080/"
        },
        "id": "4Hzd-o4sLruj",
        "outputId": "6be514ba-7252-470b-e33d-621bd2422a3e"
      },
      "execution_count": 16,
      "outputs": [
        {
          "output_type": "stream",
          "name": "stdout",
          "text": [
            "請輸入購物金額:100000\n",
            "八折 80000.0元\n"
          ]
        }
      ]
    },
    {
      "cell_type": "code",
      "source": [
        "money = int(input(\"請輸入購物金額:\"))\n",
        "if (money >= 10000):\n",
        "    if (money >= 100000):\n",
        "      print(\"八折\" , money * 0.8 , end = \"元\\n\")\n",
        "    elif (money >= 50000):\n",
        "      print(\"八五折\" , money * 0.85 , end = \"元\\n\")\n",
        "    elif (money >= 30000):\n",
        "      print(\"九折\" , money * 0.9 , end = \"元\\n\")\n",
        "    elif (money >= 10000):\n",
        "      print(\"九五折\" , money * 0.95 , end = \"元\\n\")\n",
        "else:\n",
        "    print(\"沒打折\" , money , end = \"元\\n\")"
      ],
      "metadata": {
        "colab": {
          "base_uri": "https://localhost:8080/"
        },
        "id": "zqlXA1Y5QQVP",
        "outputId": "d12838d0-0fb2-492d-c885-79fa600f67ec"
      },
      "execution_count": 40,
      "outputs": [
        {
          "output_type": "stream",
          "name": "stdout",
          "text": [
            "請輸入購物金額:100000\n",
            "八折 80000.0元\n"
          ]
        }
      ]
    },
    {
      "cell_type": "code",
      "source": [
        "month = int(input(\"請入月份:\"))\n",
        "if(month >=1 and month <= 12):\n",
        "    if (month >= 3 and month <= 5):\n",
        "      print(month , end = \"月是春天!\\n\")\n",
        "    elif (month >= 6 and month <= 8):\n",
        "      print(month , end = \"月是夏天!\\n\")\n",
        "    elif (month >= 9 and month <= 11):\n",
        "      print(month , end = \"月是秋天!\\n\")\n",
        "    elif (month >= 1 and month <= 2):\n",
        "      print(month , end = \"月是冬天!\\n\")\n",
        "    elif (month >= 12 and month <= 12):\n",
        "      print(month , end = \"月是冬天!\\n\")\n",
        "else:\n",
        "    print(\"月份不再範圍內!\")"
      ],
      "metadata": {
        "colab": {
          "base_uri": "https://localhost:8080/"
        },
        "id": "3jRvqwX_Qqzo",
        "outputId": "bdca33e7-b2f2-4570-fcd3-b64b4db62036"
      },
      "execution_count": 39,
      "outputs": [
        {
          "output_type": "stream",
          "name": "stdout",
          "text": [
            "請入月份:3\n",
            "3月是春天!\n"
          ]
        }
      ]
    },
    {
      "cell_type": "code",
      "source": [
        "income = int(input(\"請輸入今年收入淨額:\"))\n",
        "if(income >= 300000):\n",
        "    if(income >= 2000000):\n",
        "      print(\"付稅金額:\" , income * 0.3 , end = \"元\\n\")\n",
        "    elif(income >= 1000000):\n",
        "      print(\"付稅金額:\" , income * 0.21 , end = \"元\\n\")\n",
        "    elif(income >= 600000):\n",
        "      print(\"付稅金額:\" , income * 0.13 , end = \"元\\n\")\n",
        "    elif(income >= 300000):\n",
        "      print(\"付稅金額:\" , income * 0.06 , end = \"元\\n\")\n",
        "else:\n",
        "    print(\"付稅金額0元\")"
      ],
      "metadata": {
        "colab": {
          "base_uri": "https://localhost:8080/"
        },
        "id": "d3YD-3ZLaXdw",
        "outputId": "5615bb71-f713-4771-8cc4-31c1ba712754"
      },
      "execution_count": 43,
      "outputs": [
        {
          "output_type": "stream",
          "name": "stdout",
          "text": [
            "請輸入今年收入淨額:2000000\n",
            "付稅金額: 600000.0元\n"
          ]
        }
      ]
    },
    {
      "cell_type": "code",
      "source": [
        "score = int(input(\"請輸入成績\"))\n",
        "if(score >= 0 and score <= 100):\n",
        "    if(score >= 90):\n",
        "      print(\"A\")\n",
        "    elif(score <= 89 and score >= 80):\n",
        "      print(\"B\")\n",
        "    elif(score <= 79 and score >= 70):\n",
        "      print(\"C\")\n",
        "    elif(score <= 69 and score >= 60):\n",
        "      print(\"D\")\n",
        "    elif(score < 60):\n",
        "      print(\"E\")\n",
        "else:\n",
        "    print(\"成績不再範圍內\")"
      ],
      "metadata": {
        "colab": {
          "base_uri": "https://localhost:8080/"
        },
        "id": "cwpcbKpLr-Az",
        "outputId": "778fbb93-b8ae-428d-a5c5-e6e370050fc7"
      },
      "execution_count": 47,
      "outputs": [
        {
          "output_type": "stream",
          "name": "stdout",
          "text": [
            "請輸入成績88\n",
            "B\n"
          ]
        }
      ]
    }
  ]
}