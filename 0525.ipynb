{
  "nbformat": 4,
  "nbformat_minor": 0,
  "metadata": {
    "colab": {
      "name": "0525.ipynb",
      "provenance": [],
      "collapsed_sections": [],
      "authorship_tag": "ABX9TyOSpws8j6wNmM9Wn29F35ZX",
      "include_colab_link": true
    },
    "kernelspec": {
      "name": "python3",
      "display_name": "Python 3"
    },
    "language_info": {
      "name": "python"
    }
  },
  "cells": [
    {
      "cell_type": "markdown",
      "metadata": {
        "id": "view-in-github",
        "colab_type": "text"
      },
      "source": [
        "<a href=\"https://colab.research.google.com/github/Liu-yihsuan/Introduction-to-Computers/blob/main/0525.ipynb\" target=\"_parent\"><img src=\"https://colab.research.google.com/assets/colab-badge.svg\" alt=\"Open In Colab\"/></a>"
      ]
    },
    {
      "cell_type": "code",
      "execution_count": null,
      "metadata": {
        "colab": {
          "base_uri": "https://localhost:8080/"
        },
        "id": "PpznFoYq00rz",
        "outputId": "b0958600-cde1-49f3-976f-720f8e60fe95"
      },
      "outputs": [
        {
          "output_type": "stream",
          "name": "stdout",
          "text": [
            "請輸入一個正整數:50\n",
            "1到 50 的整數和為 1275\n"
          ]
        }
      ],
      "source": [
        "sum = 0\n",
        "test = int(input('請輸入一個正整數:'))\n",
        "for n in range(1,test+1):\n",
        "  sum =sum+n\n",
        "print('1到', test, '的整數和為', sum)"
      ]
    },
    {
      "cell_type": "code",
      "source": [
        "sum = 0\n",
        "test = int(input('請輸入一個正整數:'))\n",
        "for m in range(1,test+1):\n",
        "  sum = sum+m\n",
        "  print('1到'+str(m)+'的整數和為:', sum)"
      ],
      "metadata": {
        "colab": {
          "base_uri": "https://localhost:8080/"
        },
        "id": "k9bvbiEi03xS",
        "outputId": "6ec90d94-67be-401d-d0d3-3062adb027c5"
      },
      "execution_count": null,
      "outputs": [
        {
          "output_type": "stream",
          "name": "stdout",
          "text": [
            "請輸入一個正整數:50\n",
            "1到1的整數和為: 1\n",
            "1到2的整數和為: 3\n",
            "1到3的整數和為: 6\n",
            "1到4的整數和為: 10\n",
            "1到5的整數和為: 15\n",
            "1到6的整數和為: 21\n",
            "1到7的整數和為: 28\n",
            "1到8的整數和為: 36\n",
            "1到9的整數和為: 45\n",
            "1到10的整數和為: 55\n",
            "1到11的整數和為: 66\n",
            "1到12的整數和為: 78\n",
            "1到13的整數和為: 91\n",
            "1到14的整數和為: 105\n",
            "1到15的整數和為: 120\n",
            "1到16的整數和為: 136\n",
            "1到17的整數和為: 153\n",
            "1到18的整數和為: 171\n",
            "1到19的整數和為: 190\n",
            "1到20的整數和為: 210\n",
            "1到21的整數和為: 231\n",
            "1到22的整數和為: 253\n",
            "1到23的整數和為: 276\n",
            "1到24的整數和為: 300\n",
            "1到25的整數和為: 325\n",
            "1到26的整數和為: 351\n",
            "1到27的整數和為: 378\n",
            "1到28的整數和為: 406\n",
            "1到29的整數和為: 435\n",
            "1到30的整數和為: 465\n",
            "1到31的整數和為: 496\n",
            "1到32的整數和為: 528\n",
            "1到33的整數和為: 561\n",
            "1到34的整數和為: 595\n",
            "1到35的整數和為: 630\n",
            "1到36的整數和為: 666\n",
            "1到37的整數和為: 703\n",
            "1到38的整數和為: 741\n",
            "1到39的整數和為: 780\n",
            "1到40的整數和為: 820\n",
            "1到41的整數和為: 861\n",
            "1到42的整數和為: 903\n",
            "1到43的整數和為: 946\n",
            "1到44的整數和為: 990\n",
            "1到45的整數和為: 1035\n",
            "1到46的整數和為: 1081\n",
            "1到47的整數和為: 1128\n",
            "1到48的整數和為: 1176\n",
            "1到49的整數和為: 1225\n",
            "1到50的整數和為: 1275\n"
          ]
        }
      ]
    },
    {
      "cell_type": "code",
      "source": [
        "for j in range(1,5):\n",
        "  print(j)\n",
        "  for i in range(1,3):\n",
        "    k = i*j\n",
        "    print(j, '*', i, '=', k )"
      ],
      "metadata": {
        "colab": {
          "base_uri": "https://localhost:8080/"
        },
        "id": "r9RE1KrT2O4q",
        "outputId": "96a2ed55-86fd-492b-a272-690147f73f18"
      },
      "execution_count": null,
      "outputs": [
        {
          "output_type": "stream",
          "name": "stdout",
          "text": [
            "1\n",
            "1 * 1 = 1\n",
            "1 * 2 = 2\n",
            "2\n",
            "2 * 1 = 2\n",
            "2 * 2 = 4\n",
            "3\n",
            "3 * 1 = 3\n",
            "3 * 2 = 6\n",
            "4\n",
            "4 * 1 = 4\n",
            "4 * 2 = 8\n"
          ]
        }
      ]
    },
    {
      "cell_type": "code",
      "source": [
        "for j in range(1,6):\n",
        "  print(j)\n",
        "  for i in range(1,3):\n",
        "    k = i*j\n",
        "    print(j, '*', i, '=', k )"
      ],
      "metadata": {
        "colab": {
          "base_uri": "https://localhost:8080/"
        },
        "id": "k6a3v00C3Yf4",
        "outputId": "c92c5227-9f93-415d-b0f8-354b2852d735"
      },
      "execution_count": null,
      "outputs": [
        {
          "output_type": "stream",
          "name": "stdout",
          "text": [
            "1\n",
            "1 * 1 = 1\n",
            "1 * 2 = 2\n",
            "2\n",
            "2 * 1 = 2\n",
            "2 * 2 = 4\n",
            "3\n",
            "3 * 1 = 3\n",
            "3 * 2 = 6\n",
            "4\n",
            "4 * 1 = 4\n",
            "4 * 2 = 8\n",
            "5\n",
            "5 * 1 = 5\n",
            "5 * 2 = 10\n"
          ]
        }
      ]
    },
    {
      "cell_type": "code",
      "source": [
        "for  i in range(1,5):\n",
        "  if(i==4):\n",
        "    break\n",
        "  print(i, end =\" \") "
      ],
      "metadata": {
        "colab": {
          "base_uri": "https://localhost:8080/"
        },
        "id": "nbcyp_R04rFW",
        "outputId": "d27d327e-5160-4726-8812-b841b4e41778"
      },
      "execution_count": null,
      "outputs": [
        {
          "output_type": "stream",
          "name": "stdout",
          "text": [
            "1 2 3 "
          ]
        }
      ]
    },
    {
      "cell_type": "code",
      "source": [
        "count = 0\n",
        "for string in 'hello!':\n",
        "  count+=1\n",
        "  if string == 'o':\n",
        "    break\n",
        "  print(string)\n",
        "print('迴圈結束')\n",
        "print('迴圈執行了%d次'%count)"
      ],
      "metadata": {
        "colab": {
          "base_uri": "https://localhost:8080/"
        },
        "id": "jJCixB9e5xJL",
        "outputId": "8724c1e2-0bab-45e2-a8c9-356851f03d3f"
      },
      "execution_count": null,
      "outputs": [
        {
          "output_type": "stream",
          "name": "stdout",
          "text": [
            "h\n",
            "e\n",
            "l\n",
            "l\n",
            "迴圈結束\n",
            "迴圈執行了5次\n"
          ]
        }
      ]
    },
    {
      "cell_type": "code",
      "source": [
        "count = 0\n",
        "for string in '測試看看!':\n",
        "  count+=1\n",
        "  if string == '看':\n",
        "    break\n",
        "  print(string)\n",
        "print('迴圈結束')\n",
        "print('迴圈執行了%d次'%count)"
      ],
      "metadata": {
        "colab": {
          "base_uri": "https://localhost:8080/"
        },
        "id": "zScQMVRG55fP",
        "outputId": "d500f69f-5d0f-408c-9176-a38a44d182de"
      },
      "execution_count": null,
      "outputs": [
        {
          "output_type": "stream",
          "name": "stdout",
          "text": [
            "測\n",
            "試\n",
            "迴圈結束\n",
            "迴圈執行了3次\n"
          ]
        }
      ]
    },
    {
      "cell_type": "code",
      "source": [
        "for j in range(2,10):\n",
        "  for i in range(1,10):\n",
        "    k = i*j\n",
        "    print(j, '*', i, '=', k, end= '\\t')\n",
        "  print('')"
      ],
      "metadata": {
        "colab": {
          "base_uri": "https://localhost:8080/"
        },
        "id": "QYihxypD8pmu",
        "outputId": "11b0dd8c-681e-4d77-e648-879be675bc24"
      },
      "execution_count": 98,
      "outputs": [
        {
          "output_type": "stream",
          "name": "stdout",
          "text": [
            "2 * 1 = 2\t2 * 2 = 4\t2 * 3 = 6\t2 * 4 = 8\t2 * 5 = 10\t2 * 6 = 12\t2 * 7 = 14\t2 * 8 = 16\t2 * 9 = 18\t\n",
            "3 * 1 = 3\t3 * 2 = 6\t3 * 3 = 9\t3 * 4 = 12\t3 * 5 = 15\t3 * 6 = 18\t3 * 7 = 21\t3 * 8 = 24\t3 * 9 = 27\t\n",
            "4 * 1 = 4\t4 * 2 = 8\t4 * 3 = 12\t4 * 4 = 16\t4 * 5 = 20\t4 * 6 = 24\t4 * 7 = 28\t4 * 8 = 32\t4 * 9 = 36\t\n",
            "5 * 1 = 5\t5 * 2 = 10\t5 * 3 = 15\t5 * 4 = 20\t5 * 5 = 25\t5 * 6 = 30\t5 * 7 = 35\t5 * 8 = 40\t5 * 9 = 45\t\n",
            "6 * 1 = 6\t6 * 2 = 12\t6 * 3 = 18\t6 * 4 = 24\t6 * 5 = 30\t6 * 6 = 36\t6 * 7 = 42\t6 * 8 = 48\t6 * 9 = 54\t\n",
            "7 * 1 = 7\t7 * 2 = 14\t7 * 3 = 21\t7 * 4 = 28\t7 * 5 = 35\t7 * 6 = 42\t7 * 7 = 49\t7 * 8 = 56\t7 * 9 = 63\t\n",
            "8 * 1 = 8\t8 * 2 = 16\t8 * 3 = 24\t8 * 4 = 32\t8 * 5 = 40\t8 * 6 = 48\t8 * 7 = 56\t8 * 8 = 64\t8 * 9 = 72\t\n",
            "9 * 1 = 9\t9 * 2 = 18\t9 * 3 = 27\t9 * 4 = 36\t9 * 5 = 45\t9 * 6 = 54\t9 * 7 = 63\t9 * 8 = 72\t9 * 9 = 81\t\n"
          ]
        }
      ]
    },
    {
      "cell_type": "code",
      "source": [
        "a = int(input('請輸入a的值:'))\n",
        "print('')\n",
        "b = int(input('請輸入b的值:'))\n",
        "if a>b:\n",
        "  c = a\n",
        "else:\n",
        "  c = b\n",
        "d = (a+1) * (b+1)\n",
        "for k in range (c,d):\n",
        "  if k % a == 0 and k % b == 0:\n",
        "    print(a,'和',b ,'的最小公倍數=',k)\n",
        "    break"
      ],
      "metadata": {
        "colab": {
          "base_uri": "https://localhost:8080/"
        },
        "id": "u8CPtHOZ-v7c",
        "outputId": "27e62d9e-998a-4563-b755-d4f1ef7256f6"
      },
      "execution_count": 101,
      "outputs": [
        {
          "output_type": "stream",
          "name": "stdout",
          "text": [
            "請輸入a的值:4\n",
            "\n",
            "請輸入b的值:6\n",
            "4 和 6 的最小公倍數= 12\n"
          ]
        }
      ]
    },
    {
      "cell_type": "code",
      "source": [
        "a = int(input('請輸入正整數:'))\n",
        "for i in range(1,a+1):\n",
        "  if i % 5 != 0:\n",
        "    print(i, end =' ')\n",
        "    i+=1"
      ],
      "metadata": {
        "colab": {
          "base_uri": "https://localhost:8080/"
        },
        "id": "3FT2LSi1_SwP",
        "outputId": "3c4a8a5a-ea7b-41de-a632-d9a55e25cd15"
      },
      "execution_count": 92,
      "outputs": [
        {
          "output_type": "stream",
          "name": "stdout",
          "text": [
            "請輸入正整數:12\n",
            "1 2 3 4 6 7 8 9 11 12 "
          ]
        }
      ]
    }
  ]
}