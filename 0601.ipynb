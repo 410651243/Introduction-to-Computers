{
  "cells": [
    {
      "cell_type": "markdown",
      "metadata": {
        "id": "view-in-github",
        "colab_type": "text"
      },
      "source": [
        "<a href=\"https://colab.research.google.com/github/Liu-yihsuan/Introduction-to-Computers/blob/main/0601.ipynb\" target=\"_parent\"><img src=\"https://colab.research.google.com/assets/colab-badge.svg\" alt=\"Open In Colab\"/></a>"
      ]
    },
    {
      "cell_type": "markdown",
      "metadata": {
        "id": "crFVV9-tbxhF"
      },
      "source": [
        "九九乘法表"
      ]
    },
    {
      "cell_type": "code",
      "execution_count": null,
      "metadata": {
        "colab": {
          "base_uri": "https://localhost:8080/"
        },
        "id": "1pIrjb8hYrds",
        "outputId": "ff9994b5-7187-49a5-aa60-e8550320a1dd"
      },
      "outputs": [
        {
          "name": "stdout",
          "output_type": "stream",
          "text": [
            "2*1= 2 2*2= 4 2*3= 6 2*4= 8 2*5=10 2*6=12 2*7=14 2*8=16 2*9=18 \n",
            "3*1= 3 3*2= 6 3*3= 9 3*4=12 3*5=15 3*6=18 3*7=21 3*8=24 3*9=27 \n",
            "4*1= 4 4*2= 8 4*3=12 4*4=16 4*5=20 4*6=24 4*7=28 4*8=32 4*9=36 \n",
            "5*1= 5 5*2=10 5*3=15 5*4=20 5*5=25 5*6=30 5*7=35 5*8=40 5*9=45 \n",
            "6*1= 6 6*2=12 6*3=18 6*4=24 6*5=30 6*6=36 6*7=42 6*8=48 6*9=54 \n",
            "7*1= 7 7*2=14 7*3=21 7*4=28 7*5=35 7*6=42 7*7=49 7*8=56 7*9=63 \n",
            "8*1= 8 8*2=16 8*3=24 8*4=32 8*5=40 8*6=48 8*7=56 8*8=64 8*9=72 \n",
            "9*1= 9 9*2=18 9*3=27 9*4=36 9*5=45 9*6=54 9*7=63 9*8=72 9*9=81 \n"
          ]
        }
      ],
      "source": [
        "for i in range(2,10):\n",
        "  for j in range(1,10):\n",
        "    product = i * j\n",
        "    print('%d*%d=%2d' %(i, j, product), end=' ')\n",
        "  print()"
      ]
    },
    {
      "cell_type": "markdown",
      "metadata": {
        "id": "0LPC9bxXbxNr"
      },
      "source": [
        "最小公倍數"
      ]
    },
    {
      "cell_type": "code",
      "execution_count": null,
      "metadata": {
        "colab": {
          "base_uri": "https://localhost:8080/"
        },
        "id": "RR75wbosb5ha",
        "outputId": "6c053fe8-6c8b-44e3-df85-bd826e563647"
      },
      "outputs": [
        {
          "name": "stdout",
          "output_type": "stream",
          "text": [
            "請輸入a的值:5\n",
            "請輸入b的值:4\n",
            "5和4的最小公倍數 = 20\n"
          ]
        }
      ],
      "source": [
        "a = int(input('請輸入a的值:'))\n",
        "b = int(input('請輸入b的值:'))\n",
        "\n",
        "maxno = a * b\n",
        "for i in range(1,maxno+1):\n",
        "  if(i % a == 0 and i % b == 0):\n",
        "    break\n",
        "print('%d和%d的最小公倍數 = %d' %(a, b, i))"
      ]
    },
    {
      "cell_type": "markdown",
      "metadata": {
        "id": "n9WgQngKdICt"
      },
      "source": [
        "數列排除5"
      ]
    },
    {
      "cell_type": "code",
      "execution_count": null,
      "metadata": {
        "colab": {
          "base_uri": "https://localhost:8080/"
        },
        "id": "RsGeQSykdM7Q",
        "outputId": "480a568a-777b-422e-92aa-9b825e321447"
      },
      "outputs": [
        {
          "output_type": "stream",
          "name": "stdout",
          "text": [
            "請輸入正整數:10\n",
            "1 2 3 4 6 7 8 9 "
          ]
        }
      ],
      "source": [
        "n = int(input('請輸入正整數:'))\n",
        "for i in range(1, n+1):\n",
        "  if i % 5 == 0:\n",
        "    continue\n",
        "  print(i, end= ' ')"
      ]
    },
    {
      "cell_type": "code",
      "execution_count": null,
      "metadata": {
        "id": "tNnCj5I1d5zz",
        "colab": {
          "base_uri": "https://localhost:8080/"
        },
        "outputId": "f01e9f3f-3e4b-4631-ab34-a6d314194af4"
      },
      "outputs": [
        {
          "output_type": "stream",
          "name": "stdout",
          "text": [
            "55\n"
          ]
        }
      ],
      "source": [
        "total = n = 0\n",
        "while(n <= 10):\n",
        "  total += n\n",
        "  n += 1\n",
        "print(total)"
      ]
    },
    {
      "cell_type": "markdown",
      "metadata": {
        "id": "nMiHtdYEgH0O"
      },
      "source": [
        "n!"
      ]
    },
    {
      "cell_type": "code",
      "execution_count": null,
      "metadata": {
        "colab": {
          "base_uri": "https://localhost:8080/"
        },
        "id": "153clAOtfIcN",
        "outputId": "fd293b34-6518-4678-a582-948aff49f65b"
      },
      "outputs": [
        {
          "name": "stdout",
          "output_type": "stream",
          "text": [
            "請輸入正整數n的值:100\n",
            "100!=93326215443944152681699238856266700490715968264381621468592963895217599993229915608941463976156518286253697920827223758251185210916864000000000000000000000000\n"
          ]
        }
      ],
      "source": [
        "total = i = 1\n",
        "n = int(input('請輸入正整數n的值:'))\n",
        "while i <= n:\n",
        "  total *= i\n",
        "  i += 1\n",
        "print('%d!=%d' %(n, total))"
      ]
    },
    {
      "cell_type": "markdown",
      "metadata": {
        "id": "YOEBRT2QhNoC"
      },
      "source": [
        "偶數和"
      ]
    },
    {
      "cell_type": "code",
      "execution_count": null,
      "metadata": {
        "colab": {
          "base_uri": "https://localhost:8080/"
        },
        "id": "a2EDRWuEnTYB",
        "outputId": "47b4188f-71ff-4c15-c804-d2fd7ccd2f9b"
      },
      "outputs": [
        {
          "name": "stdout",
          "output_type": "stream",
          "text": [
            "0～50的偶偶數和結果是 650\n"
          ]
        }
      ],
      "source": [
        "total = i = 0\n",
        "while i <= 50:\n",
        "  if i % 2 == 0:\n",
        "    total += i\n",
        "  i += 1\n",
        "print('0～50的偶偶數和結果是', total)"
      ]
    },
    {
      "cell_type": "markdown",
      "metadata": {
        "id": "ISzmJKldg-J_"
      },
      "source": [
        "奇數和"
      ]
    },
    {
      "cell_type": "code",
      "execution_count": null,
      "metadata": {
        "colab": {
          "base_uri": "https://localhost:8080/"
        },
        "id": "uQqw-XsMqU7p",
        "outputId": "43e3b8a2-085b-43ef-eabe-a5bbf4f71cdc"
      },
      "outputs": [
        {
          "name": "stdout",
          "output_type": "stream",
          "text": [
            "0～50的奇數和結果是 625\n"
          ]
        }
      ],
      "source": [
        "total = i = 0\n",
        "while i <= 50:\n",
        "  if i % 2 == 1:\n",
        "    total += i\n",
        "  i += 1\n",
        "print('0～50的奇數和結果是', total)"
      ]
    },
    {
      "cell_type": "markdown",
      "metadata": {
        "id": "hh5FGX2_xlAI"
      },
      "source": [
        "2."
      ]
    },
    {
      "cell_type": "code",
      "execution_count": 3,
      "metadata": {
        "colab": {
          "base_uri": "https://localhost:8080/"
        },
        "id": "0nI-rVhYoTAz",
        "outputId": "c75d4042-2951-4bba-c1e8-8d6813aa3897"
      },
      "outputs": [
        {
          "output_type": "stream",
          "name": "stdout",
          "text": [
            "請輸入正整數:7\n",
            "*******\n",
            "******\n",
            "*****\n",
            "****\n",
            "***\n",
            "**\n",
            "*\n"
          ]
        }
      ],
      "source": [
        "n = int(input('請輸入正整數:'))\n",
        "for i in range(1,n+1):\n",
        "  for j in range(i,n+1):\n",
        "    print('*',end='')\n",
        "  print()"
      ]
    },
    {
      "cell_type": "markdown",
      "metadata": {
        "id": "oJOLuXIixnDz"
      },
      "source": [
        "3."
      ]
    },
    {
      "cell_type": "code",
      "execution_count": null,
      "metadata": {
        "colab": {
          "base_uri": "https://localhost:8080/"
        },
        "id": "jT3tx7XZ7-uJ",
        "outputId": "ac1a099a-93bb-4dc7-c54f-2738a6d52a16"
      },
      "outputs": [
        {
          "name": "stdout",
          "output_type": "stream",
          "text": [
            "1～100中，所有是3或是7倍數的數之總和 =  2208\n"
          ]
        }
      ],
      "source": [
        "sum = 0\n",
        "for i in range(1,101):\n",
        "  if i % 3 == 0 or i % 7 == 0:\n",
        "    sum += i \n",
        "print('1～100中，所有是3或是7倍數的數之總和 = ',sum)"
      ]
    },
    {
      "cell_type": "markdown",
      "metadata": {
        "id": "rv2tdNJP9w6L"
      },
      "source": [
        "4."
      ]
    },
    {
      "cell_type": "code",
      "source": [
        "p = 1\n",
        "counter = 0\n",
        "n = int(input('請輸入正整數:'))\n",
        "print(n,'的因數有',end='')\n",
        "while (p<=n):\n",
        "    if n % p == 0:\n",
        "        print(p,end='')\n",
        "        counter+=1\n",
        "    p+=1\n",
        "\n",
        "print()\n",
        "if (counter==2):\n",
        "    print(n, '是質數')\n",
        "else:\n",
        "  print(n, '不是質數')"
      ],
      "metadata": {
        "colab": {
          "base_uri": "https://localhost:8080/"
        },
        "id": "hmeF7ISEbd04",
        "outputId": "151dfe2d-743f-4ea7-c3d3-20bf2e1b83b9"
      },
      "execution_count": 5,
      "outputs": [
        {
          "output_type": "stream",
          "name": "stdout",
          "text": [
            "請輸入正整數:6\n",
            "6 的因數有 1236\n",
            "6 不是質數\n"
          ]
        }
      ]
    }
  ],
  "metadata": {
    "colab": {
      "collapsed_sections": [],
      "name": "0601.ipynb",
      "provenance": [],
      "authorship_tag": "ABX9TyMYbabtgsv+6aORoCnLvhLX",
      "include_colab_link": true
    },
    "kernelspec": {
      "display_name": "Python 3",
      "name": "python3"
    },
    "language_info": {
      "name": "python"
    }
  },
  "nbformat": 4,
  "nbformat_minor": 0
}