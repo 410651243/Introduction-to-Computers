{
  "nbformat": 4,
  "nbformat_minor": 0,
  "metadata": {
    "colab": {
      "name": "Untitled4.ipynb",
      "provenance": [],
      "collapsed_sections": [],
      "authorship_tag": "ABX9TyMFEqC+aYxEQ2ZvTz4GhB/3",
      "include_colab_link": true
    },
    "kernelspec": {
      "name": "python3",
      "display_name": "Python 3"
    },
    "language_info": {
      "name": "python"
    }
  },
  "cells": [
    {
      "cell_type": "markdown",
      "metadata": {
        "id": "view-in-github",
        "colab_type": "text"
      },
      "source": [
        "<a href=\"https://colab.research.google.com/github/Liu-yihsuan/Introduction-to-Computers/blob/main/Untitled4.ipynb\" target=\"_parent\"><img src=\"https://colab.research.google.com/assets/colab-badge.svg\" alt=\"Open In Colab\"/></a>"
      ]
    },
    {
      "cell_type": "code",
      "source": [
        "上底 = int(input('請輸入上底長度:'))\n",
        "下底 = int(input('請輸入梯形下底長度:'))\n",
        "高 = int(input('請輸入梯形的高度:'))\n",
        "面積 = (上底+下底)*高/2\n",
        "print('梯形上底長度為:%d公分，梯形下底長度為:%d公分，梯形高度為:%d公分，梯形面積為:%0.2f平方公分'%(上底,下底,高,面積))"
      ],
      "metadata": {
        "colab": {
          "base_uri": "https://localhost:8080/"
        },
        "id": "_Sjn-03YSEEu",
        "outputId": "bdf7733e-d8ca-49ed-af2b-98ff7dc60369"
      },
      "execution_count": 64,
      "outputs": [
        {
          "output_type": "stream",
          "name": "stdout",
          "text": [
            "請輸入上底長度:4\n",
            "請輸入梯形下底長度:3\n",
            "請輸入梯形的高度:4\n",
            "梯形上底長度為:4公分，梯形下底長度為:3公分，梯形高度為:4公分，梯形面積為:14.00平方公分\n"
          ]
        }
      ]
    },
    {
      "cell_type": "code",
      "source": [
        "身高 = int(input('請輸入您的身高(cm):'))\n",
        "體重 = int(input('請輸入您的體重(kg):'))\n",
        "BMI = 體重/((身高*0.01)**2)\n",
        "print('身高%d公分，體重%d公斤，BMI值為%0.3f'%(身高,體重,BMI))"
      ],
      "metadata": {
        "colab": {
          "base_uri": "https://localhost:8080/"
        },
        "id": "UxxEUl-MSGWw",
        "outputId": "e0b04e08-0bdb-47a8-d210-dfe5fd83b083"
      },
      "execution_count": 65,
      "outputs": [
        {
          "output_type": "stream",
          "name": "stdout",
          "text": [
            "請輸入您的身高(cm):160\n",
            "請輸入您的體重(kg):50\n",
            "身高160公分，體重50公斤，BMI值為19.531\n"
          ]
        }
      ]
    },
    {
      "cell_type": "code",
      "source": [
        "num = int(input('請輸入正整數'))\n",
        "if(num%2 == 0):\n",
        "    print(num,'為偶數!')\n",
        "else:\n",
        "    print(num,'為奇數!')"
      ],
      "metadata": {
        "colab": {
          "base_uri": "https://localhost:8080/"
        },
        "id": "nyzTbsvhSKFX",
        "outputId": "1a472cbd-5654-4ba9-81ac-38354bdbad52"
      },
      "execution_count": 66,
      "outputs": [
        {
          "output_type": "stream",
          "name": "stdout",
          "text": [
            "請輸入正整數50\n",
            "50 為偶數!\n"
          ]
        }
      ]
    },
    {
      "cell_type": "code",
      "source": [
        ""
      ],
      "metadata": {
        "id": "KHFE9E2-SOaQ"
      },
      "execution_count": null,
      "outputs": []
    },
    {
      "cell_type": "code",
      "execution_count": null,
      "metadata": {
        "colab": {
          "base_uri": "https://localhost:8080/"
        },
        "id": "ethktRvPTr4a",
        "outputId": "c129e678-2389-4fbc-8a35-970d372bf5dd"
      },
      "outputs": [
        {
          "output_type": "stream",
          "name": "stdout",
          "text": [
            "請入月份:3\n",
            "3月是春天!"
          ]
        }
      ],
      "source": [
        "month = int(input(\"請入月份:\"))\n",
        "if (month >=1 and month <= 12):\n",
        "    if (month >= 3 and month <= 5):\n",
        "      print(month, end= \"月是春天!\")\n",
        "    elif (month >= 6 and month <= 8):\n",
        "      print(month, end= \"月是夏天!\")\n",
        "    elif (month >= 9 and month <= 11):\n",
        "      print(month, end= \"月是秋天!\")\n",
        "    elif (month >= 1 and month <= 2):\n",
        "      print(month, end= \"月是冬天!\")\n",
        "    elif (month >= 12 and month <= 12):\n",
        "      print(month, end= \"月是冬天!\")\n",
        "else:\n",
        "    print(\"月份不再範圍內!\")"
      ]
    },
    {
      "cell_type": "code",
      "source": [
        "money = int(input(\"請輸入購物金額:\"))\n",
        "if (money >= 10000):\n",
        "    if (money >= 100000):\n",
        "      print(\"八折\", money * 0.8, end= \"元\\n\")\n",
        "    elif (money >= 50000):\n",
        "      print(\"八五折\", money * 0.85, end= \"元\\n\")\n",
        "    elif (money >= 30000):\n",
        "      print(\"九折\", money * 0.9, end= \"元\\n\")\n",
        "    elif (money >= 10000):\n",
        "      print(\"九五折\", money * 0.9, end= \"元\\n\")\n",
        "else:\n",
        "    print(\"沒打折\" , money , end = \"元\\n\")"
      ],
      "metadata": {
        "colab": {
          "base_uri": "https://localhost:8080/"
        },
        "id": "MI9wj8Ij0X8o",
        "outputId": "bcaf27fa-f47f-49c2-c2f2-14b6ae9b1ce6"
      },
      "execution_count": null,
      "outputs": [
        {
          "output_type": "stream",
          "name": "stdout",
          "text": [
            "請輸入購物金額:200000\n",
            "八折 160000.0元\n"
          ]
        }
      ]
    },
    {
      "cell_type": "code",
      "source": [
        ""
      ],
      "metadata": {
        "id": "uMccmIGLSVJG"
      },
      "execution_count": null,
      "outputs": []
    },
    {
      "cell_type": "code",
      "source": [
        "for i in range(1,10):\n",
        "  for j in range(1,10):\n",
        "    k = i*j\n",
        "    print('%d * %d =%2d'%(i,j,k),end= '\\t')\n",
        "  print()"
      ],
      "metadata": {
        "colab": {
          "base_uri": "https://localhost:8080/"
        },
        "id": "8B1EJkMieFxv",
        "outputId": "84b43033-ecd9-46b0-ef5e-fee57256fc38"
      },
      "execution_count": null,
      "outputs": [
        {
          "output_type": "stream",
          "name": "stdout",
          "text": [
            "1 * 1 = 1\t1 * 2 = 2\t1 * 3 = 3\t1 * 4 = 4\t1 * 5 = 5\t1 * 6 = 6\t1 * 7 = 7\t1 * 8 = 8\t1 * 9 = 9\t\n",
            "2 * 1 = 2\t2 * 2 = 4\t2 * 3 = 6\t2 * 4 = 8\t2 * 5 =10\t2 * 6 =12\t2 * 7 =14\t2 * 8 =16\t2 * 9 =18\t\n",
            "3 * 1 = 3\t3 * 2 = 6\t3 * 3 = 9\t3 * 4 =12\t3 * 5 =15\t3 * 6 =18\t3 * 7 =21\t3 * 8 =24\t3 * 9 =27\t\n",
            "4 * 1 = 4\t4 * 2 = 8\t4 * 3 =12\t4 * 4 =16\t4 * 5 =20\t4 * 6 =24\t4 * 7 =28\t4 * 8 =32\t4 * 9 =36\t\n",
            "5 * 1 = 5\t5 * 2 =10\t5 * 3 =15\t5 * 4 =20\t5 * 5 =25\t5 * 6 =30\t5 * 7 =35\t5 * 8 =40\t5 * 9 =45\t\n",
            "6 * 1 = 6\t6 * 2 =12\t6 * 3 =18\t6 * 4 =24\t6 * 5 =30\t6 * 6 =36\t6 * 7 =42\t6 * 8 =48\t6 * 9 =54\t\n",
            "7 * 1 = 7\t7 * 2 =14\t7 * 3 =21\t7 * 4 =28\t7 * 5 =35\t7 * 6 =42\t7 * 7 =49\t7 * 8 =56\t7 * 9 =63\t\n",
            "8 * 1 = 8\t8 * 2 =16\t8 * 3 =24\t8 * 4 =32\t8 * 5 =40\t8 * 6 =48\t8 * 7 =56\t8 * 8 =64\t8 * 9 =72\t\n",
            "9 * 1 = 9\t9 * 2 =18\t9 * 3 =27\t9 * 4 =36\t9 * 5 =45\t9 * 6 =54\t9 * 7 =63\t9 * 8 =72\t9 * 9 =81\t\n"
          ]
        }
      ]
    },
    {
      "cell_type": "code",
      "source": [
        "for i in range(1,10):\n",
        "    for j in range(i,10):\n",
        "        print(i,'*',j,'=',k,end='\\t')\n",
        "    print()"
      ],
      "metadata": {
        "colab": {
          "base_uri": "https://localhost:8080/"
        },
        "id": "EAMEQCSK86u4",
        "outputId": "e072aef8-a1cf-4770-f594-501acf73781a"
      },
      "execution_count": null,
      "outputs": [
        {
          "output_type": "stream",
          "name": "stdout",
          "text": [
            "1 * 1 = 81\t1 * 2 = 81\t1 * 3 = 81\t1 * 4 = 81\t1 * 5 = 81\t1 * 6 = 81\t1 * 7 = 81\t1 * 8 = 81\t1 * 9 = 81\t\n",
            "2 * 2 = 81\t2 * 3 = 81\t2 * 4 = 81\t2 * 5 = 81\t2 * 6 = 81\t2 * 7 = 81\t2 * 8 = 81\t2 * 9 = 81\t\n",
            "3 * 3 = 81\t3 * 4 = 81\t3 * 5 = 81\t3 * 6 = 81\t3 * 7 = 81\t3 * 8 = 81\t3 * 9 = 81\t\n",
            "4 * 4 = 81\t4 * 5 = 81\t4 * 6 = 81\t4 * 7 = 81\t4 * 8 = 81\t4 * 9 = 81\t\n",
            "5 * 5 = 81\t5 * 6 = 81\t5 * 7 = 81\t5 * 8 = 81\t5 * 9 = 81\t\n",
            "6 * 6 = 81\t6 * 7 = 81\t6 * 8 = 81\t6 * 9 = 81\t\n",
            "7 * 7 = 81\t7 * 8 = 81\t7 * 9 = 81\t\n",
            "8 * 8 = 81\t8 * 9 = 81\t\n",
            "9 * 9 = 81\t\n"
          ]
        }
      ]
    },
    {
      "cell_type": "code",
      "source": [
        "n = int(input(\"請輸入正整數：\"))\n",
        "for i in range(1,n+1):\n",
        "    for j in range(i,n+1):\n",
        "        print(\"*\", end=\"\")\n",
        "    print()"
      ],
      "metadata": {
        "colab": {
          "base_uri": "https://localhost:8080/"
        },
        "id": "o4hUbcLX4Knu",
        "outputId": "f22f3ccc-aa88-4aec-cfcd-fc75cf312efe"
      },
      "execution_count": null,
      "outputs": [
        {
          "output_type": "stream",
          "name": "stdout",
          "text": [
            "請輸入正整數：10\n",
            "**********\n",
            "*********\n",
            "********\n",
            "*******\n",
            "******\n",
            "*****\n",
            "****\n",
            "***\n",
            "**\n",
            "*\n"
          ]
        }
      ]
    },
    {
      "cell_type": "code",
      "source": [
        ""
      ],
      "metadata": {
        "id": "eotMck3-SXA1"
      },
      "execution_count": null,
      "outputs": []
    },
    {
      "cell_type": "code",
      "source": [
        "sum = 0\n",
        "test1 = int(input('請輸入正整數:'))\n",
        "for n in range(1,test1+1):\n",
        "  sum = sum+n\n",
        "print('1到'+str(n)+'的正整數合為:',sum)"
      ],
      "metadata": {
        "colab": {
          "base_uri": "https://localhost:8080/"
        },
        "id": "wFr8D6Utckn-",
        "outputId": "7d22581a-3e94-4b84-84aa-de95b701a5e2"
      },
      "execution_count": null,
      "outputs": [
        {
          "output_type": "stream",
          "name": "stdout",
          "text": [
            "請輸入正整數:10\n",
            "1到10的正整數合為: 55\n"
          ]
        }
      ]
    },
    {
      "cell_type": "code",
      "source": [
        "sum = 0\n",
        "test = int(input('請輸入正整數:'))\n",
        "for n in range(1,test+1):\n",
        "  sum = sum+n\n",
        "  print('1到'+str(n)+'的整數合為:',sum)"
      ],
      "metadata": {
        "colab": {
          "base_uri": "https://localhost:8080/"
        },
        "id": "9q05tbmYdPr2",
        "outputId": "d59aaedd-ba31-417c-9009-82fcdd6e3c5e"
      },
      "execution_count": null,
      "outputs": [
        {
          "output_type": "stream",
          "name": "stdout",
          "text": [
            "請輸入正整數:10\n",
            "1到1的整數合為: 1\n",
            "1到2的整數合為: 3\n",
            "1到3的整數合為: 6\n",
            "1到4的整數合為: 10\n",
            "1到5的整數合為: 15\n",
            "1到6的整數合為: 21\n",
            "1到7的整數合為: 28\n",
            "1到8的整數合為: 36\n",
            "1到9的整數合為: 45\n",
            "1到10的整數合為: 55\n"
          ]
        }
      ]
    },
    {
      "cell_type": "code",
      "source": [
        "i = 0\n",
        "total = 0\n",
        "while i <= 50:\n",
        "    if i % 2 != 0:\n",
        "        total += i\n",
        "    i += 1\n",
        "print('0～50的奇數和結果是', total)"
      ],
      "metadata": {
        "colab": {
          "base_uri": "https://localhost:8080/"
        },
        "id": "noNsMguq3-67",
        "outputId": "ff05dcb8-2247-4b13-9aae-48fa1c964783"
      },
      "execution_count": 71,
      "outputs": [
        {
          "output_type": "stream",
          "name": "stdout",
          "text": [
            "0～50的奇數和結果是 625\n"
          ]
        }
      ]
    },
    {
      "cell_type": "code",
      "source": [
        "i = 0\n",
        "total = 0\n",
        "while i <= 50:\n",
        "    if i % 2 == 0:\n",
        "        total += i\n",
        "    i += 1\n",
        "print('0～50的偶數和結果是', total)"
      ],
      "metadata": {
        "colab": {
          "base_uri": "https://localhost:8080/"
        },
        "id": "RECzThe734bk",
        "outputId": "5736cb98-2e4a-437a-d074-ca09c382fb61"
      },
      "execution_count": 70,
      "outputs": [
        {
          "output_type": "stream",
          "name": "stdout",
          "text": [
            "0～50的偶數和結果是 650\n"
          ]
        }
      ]
    },
    {
      "cell_type": "code",
      "source": [
        ""
      ],
      "metadata": {
        "id": "jbRRSFf8S1B-"
      },
      "execution_count": null,
      "outputs": []
    },
    {
      "cell_type": "code",
      "source": [
        "count = 0\n",
        "for string in 'hello!':\n",
        "  count = count+1\n",
        "  if string == 'o':\n",
        "    break\n",
        "  print(string)\n",
        "print('迴圈結束')\n",
        "print('迴圈執行了%d次'%count)"
      ],
      "metadata": {
        "colab": {
          "base_uri": "https://localhost:8080/"
        },
        "id": "TopPKpHPesOA",
        "outputId": "c4e2ed4c-28f1-4ed6-ffb6-2b851af39c1f"
      },
      "execution_count": null,
      "outputs": [
        {
          "output_type": "stream",
          "name": "stdout",
          "text": [
            "h\n",
            "e\n",
            "l\n",
            "l\n",
            "迴圈結束\n",
            "迴圈執行了5次\n"
          ]
        }
      ]
    },
    {
      "cell_type": "code",
      "source": [
        "total = i = 1\n",
        "n = int(input('請輸入正整數n的值:'))\n",
        "while i <= n:\n",
        "  total *= i\n",
        "  i += 1\n",
        "print('%d!=%d' %(n, total))"
      ],
      "metadata": {
        "colab": {
          "base_uri": "https://localhost:8080/"
        },
        "id": "_0q6DjEw3yFQ",
        "outputId": "44b0435d-30ab-455b-ef60-894be0f63020"
      },
      "execution_count": null,
      "outputs": [
        {
          "output_type": "stream",
          "name": "stdout",
          "text": [
            "請輸入正整數n的值:5\n",
            "5!=120\n"
          ]
        }
      ]
    },
    {
      "cell_type": "code",
      "source": [
        ""
      ],
      "metadata": {
        "id": "8BFrBrZ5S3Pf"
      },
      "execution_count": null,
      "outputs": []
    },
    {
      "cell_type": "code",
      "source": [
        "a = int(input('請輸入a的值:'))\n",
        "print()\n",
        "b = int(input('請輸入b的值:'))\n",
        "\n",
        "maxno = a * b\n",
        "for i in range(1,maxno+1):\n",
        "    if(i % a == 0 and i % b == 0):\n",
        "        break\n",
        "print('%d和%d的最小公倍數 = %d' %(a, b, i))"
      ],
      "metadata": {
        "colab": {
          "base_uri": "https://localhost:8080/"
        },
        "id": "e5MgmyxG2Mpa",
        "outputId": "f34ecb11-16cd-4f06-cea4-a51d4db46f06"
      },
      "execution_count": 72,
      "outputs": [
        {
          "output_type": "stream",
          "name": "stdout",
          "text": [
            "請輸入a的值:4\n",
            "\n",
            "請輸入b的值:6\n",
            "4和6的最小公倍數 = 12\n"
          ]
        }
      ]
    },
    {
      "cell_type": "code",
      "source": [
        "n = int(input('請輸入正整數:'))\n",
        "for i in range(1, n+1):\n",
        "    if i % 5 == 0:\n",
        "        continue\n",
        "    print(i, end= ' ')"
      ],
      "metadata": {
        "colab": {
          "base_uri": "https://localhost:8080/"
        },
        "id": "v1eais-A3sk0",
        "outputId": "eaeea855-bced-4638-fd71-103470f6bea4"
      },
      "execution_count": 73,
      "outputs": [
        {
          "output_type": "stream",
          "name": "stdout",
          "text": [
            "請輸入正整數:7\n",
            "1 2 3 4 6 7 "
          ]
        }
      ]
    },
    {
      "cell_type": "code",
      "source": [
        "sum = 0\n",
        "for i in range(0, 101):\n",
        "    if (i%3==0 or i%7==0):\n",
        "        sum += i\n",
        "print(\"數值 1~100 中，所有是 3 或 7 倍數的數之總和 =\",sum)"
      ],
      "metadata": {
        "colab": {
          "base_uri": "https://localhost:8080/"
        },
        "id": "lMKTGVp04Maq",
        "outputId": "a5052c9f-e54d-4942-e5a1-36e37e13d798"
      },
      "execution_count": null,
      "outputs": [
        {
          "output_type": "stream",
          "name": "stdout",
          "text": [
            "數值 1~100 中，所有是 3 或 7 倍數的數之總和 = 2208\n"
          ]
        }
      ]
    },
    {
      "cell_type": "code",
      "source": [
        "p=1\n",
        "counter=0\n",
        "n = int(input(\"請輸入正整數：\"))\n",
        "print(n,\"的因數有\",end=\" \")\n",
        "while (p<=n):\n",
        "    if (n%p==0):\n",
        "        print(p,end=\" \")\n",
        "        counter+=1\n",
        "    p+=1\n",
        "\n",
        "print()    \n",
        "if (counter==2):    \n",
        "    print(n,\"是質數\")\n",
        "else:\n",
        "    print(n,\"不是質數\")"
      ],
      "metadata": {
        "colab": {
          "base_uri": "https://localhost:8080/"
        },
        "id": "a4q_SXEk4RMT",
        "outputId": "4237e894-a118-4c96-a88d-ab4440594938"
      },
      "execution_count": null,
      "outputs": [
        {
          "output_type": "stream",
          "name": "stdout",
          "text": [
            "請輸入正整數：3\n",
            "3 的因數有 1 3 \n",
            "3 是質數\n"
          ]
        }
      ]
    },
    {
      "cell_type": "code",
      "source": [
        ""
      ],
      "metadata": {
        "id": "WNu2v3-9THHm"
      },
      "execution_count": null,
      "outputs": []
    },
    {
      "cell_type": "code",
      "source": [
        "scores = [85, 79, 93]\n",
        "print(\"國文成績：%d分\" % scores[0]) \n",
        "print(\"數學成績：%d分\" % scores[1]) \n",
        "print(\"英文成績：%d分\" % scores[2])"
      ],
      "metadata": {
        "colab": {
          "base_uri": "https://localhost:8080/"
        },
        "id": "hGNU_qe14UIB",
        "outputId": "efaa075f-9dd0-42f0-dbe4-f8a031e2ca59"
      },
      "execution_count": null,
      "outputs": [
        {
          "output_type": "stream",
          "name": "stdout",
          "text": [
            "國文成績：85分\n",
            "數學成績：79分\n",
            "英文成績：93分\n"
          ]
        }
      ]
    },
    {
      "cell_type": "code",
      "source": [
        "student = ['Tom', 'Mary', 'Tony']\n",
        "id = [1,2,3]\n",
        "for i in range(len(id)):\n",
        "  print('編號:%s 姓名:%s'%(id[i],student[i]))"
      ],
      "metadata": {
        "colab": {
          "base_uri": "https://localhost:8080/"
        },
        "id": "T5bFcnTF4Yoj",
        "outputId": "3196e5f3-a9ea-4b2a-ec17-3b636ca92b88"
      },
      "execution_count": null,
      "outputs": [
        {
          "output_type": "stream",
          "name": "stdout",
          "text": [
            "編號:1 姓名:Tom\n",
            "編號:2 姓名:Mary\n",
            "編號:3 姓名:Tony\n"
          ]
        }
      ]
    }
  ]
}