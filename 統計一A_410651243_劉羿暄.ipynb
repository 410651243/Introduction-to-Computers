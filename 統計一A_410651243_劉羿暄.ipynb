{
  "nbformat": 4,
  "nbformat_minor": 0,
  "metadata": {
    "colab": {
      "name": "統計一A_410651243_劉羿暄.ipynb",
      "provenance": [],
      "collapsed_sections": [],
      "authorship_tag": "ABX9TyPM/7it8+dYzP/tb9WJxLMO",
      "include_colab_link": true
    },
    "kernelspec": {
      "name": "python3",
      "display_name": "Python 3"
    },
    "language_info": {
      "name": "python"
    }
  },
  "cells": [
    {
      "cell_type": "markdown",
      "metadata": {
        "id": "view-in-github",
        "colab_type": "text"
      },
      "source": [
        "<a href=\"https://colab.research.google.com/github/Liu-yihsuan/Introduction-to-Computers/blob/main/%E7%B5%B1%E8%A8%88%E4%B8%80A_410651243_%E5%8A%89%E7%BE%BF%E6%9A%84.ipynb\" target=\"_parent\"><img src=\"https://colab.research.google.com/assets/colab-badge.svg\" alt=\"Open In Colab\"/></a>"
      ]
    },
    {
      "cell_type": "code",
      "execution_count": null,
      "metadata": {
        "colab": {
          "base_uri": "https://localhost:8080/"
        },
        "id": "4xcfFAb35nZa",
        "outputId": "e74fe211-a870-46f7-8775-1adc57197839"
      },
      "outputs": [
        {
          "output_type": "stream",
          "name": "stdout",
          "text": [
            "15\n",
            "1\n",
            "90\n"
          ]
        }
      ],
      "source": [
        "#指派運算子\n",
        "a = 10\n",
        "a += 5\n",
        "print(a)\n",
        "b = 3\n",
        "b -= 2\n",
        "print(b)\n",
        "c = 45\n",
        "c *= 2\n",
        "print(c)"
      ]
    },
    {
      "cell_type": "code",
      "source": [
        "#關係運算子\n",
        "j = 2>1\n",
        "print(j)\n",
        "q = 10<8\n",
        "print(q)\n",
        "k = 1000>=1\n",
        "print(k)"
      ],
      "metadata": {
        "colab": {
          "base_uri": "https://localhost:8080/"
        },
        "id": "fwBN3SRl52EA",
        "outputId": "6280d3f0-4e96-4e40-8b38-536f1ac013e4"
      },
      "execution_count": null,
      "outputs": [
        {
          "output_type": "stream",
          "name": "stdout",
          "text": [
            "True\n",
            "False\n",
            "True\n"
          ]
        }
      ]
    },
    {
      "cell_type": "code",
      "source": [
        "#邏輯運算子\n",
        "x = (100>1)and(100>10)\n",
        "print(x)\n",
        "y = (666>66)or(6<666)\n",
        "print(y)\n",
        "z = not(700>7)\n",
        "print(z)\n"
      ],
      "metadata": {
        "colab": {
          "base_uri": "https://localhost:8080/"
        },
        "id": "Bjm6vjbP5-Zv",
        "outputId": "7f4776cf-bbac-4350-fe10-5b60c10db5e5"
      },
      "execution_count": null,
      "outputs": [
        {
          "output_type": "stream",
          "name": "stdout",
          "text": [
            "True\n",
            "True\n",
            "False\n"
          ]
        }
      ]
    },
    {
      "cell_type": "code",
      "source": [
        ""
      ],
      "metadata": {
        "id": "h-YnNa9y-ArC"
      },
      "execution_count": null,
      "outputs": []
    }
  ]
}