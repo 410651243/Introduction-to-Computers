{
  "nbformat": 4,
  "nbformat_minor": 0,
  "metadata": {
    "colab": {
      "name": "統計一A_410651243劉羿暄.ipynb",
      "provenance": [],
      "authorship_tag": "ABX9TyMM0DSsQJlNv1RkudKxVpwT",
      "include_colab_link": true
    },
    "kernelspec": {
      "name": "python3",
      "display_name": "Python 3"
    },
    "language_info": {
      "name": "python"
    }
  },
  "cells": [
    {
      "cell_type": "markdown",
      "metadata": {
        "id": "view-in-github",
        "colab_type": "text"
      },
      "source": [
        "<a href=\"https://colab.research.google.com/github/Liu-yihsuan/Introduction-to-Computers/blob/main/%E7%B5%B1%E8%A8%88%E4%B8%80A_410651243%E5%8A%89%E7%BE%BF%E6%9A%84(%E5%AF%A6%E7%BF%92week8).ipynb\" target=\"_parent\"><img src=\"https://colab.research.google.com/assets/colab-badge.svg\" alt=\"Open In Colab\"/></a>"
      ]
    },
    {
      "cell_type": "code",
      "execution_count": 3,
      "metadata": {
        "colab": {
          "base_uri": "https://localhost:8080/"
        },
        "id": "3-2i3ietWIrD",
        "outputId": "64163daf-7350-4d6e-9d4f-da2ee94c6276"
      },
      "outputs": [
        {
          "output_type": "stream",
          "name": "stdout",
          "text": [
            "請輸入金額150\n",
            "可購買手機\n"
          ]
        }
      ],
      "source": [
        "money = int(input('請輸入金額'))\n",
        "if(money<100):\n",
        "    print('金額不足')\n",
        "elif(money>100 and money<200):\n",
        "    print('可購買手機')\n",
        "elif(money>200 and money<300):\n",
        "    print('可購買平板')\n",
        "elif(money>300 and money<400):\n",
        "    print('可購買電腦')"
      ]
    }
  ]
}